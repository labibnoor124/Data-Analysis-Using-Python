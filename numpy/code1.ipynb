{
 "cells": [
  {
   "cell_type": "code",
   "execution_count": 1,
   "id": "5db34549",
   "metadata": {},
   "outputs": [],
   "source": [
    "import numpy as np"
   ]
  },
  {
   "cell_type": "code",
   "execution_count": 2,
   "id": "c521a0b3",
   "metadata": {},
   "outputs": [
    {
     "data": {
      "text/plain": [
       "array([0., 0., 0., 0., 0.])"
      ]
     },
     "execution_count": 2,
     "metadata": {},
     "output_type": "execute_result"
    }
   ],
   "source": [
    "np.zeros(5)"
   ]
  },
  {
   "cell_type": "code",
   "execution_count": 3,
   "id": "1f7d0ec6",
   "metadata": {},
   "outputs": [
    {
     "data": {
      "text/plain": [
       "array([[0., 0., 0.],\n",
       "       [0., 0., 0.]])"
      ]
     },
     "execution_count": 3,
     "metadata": {},
     "output_type": "execute_result"
    }
   ],
   "source": [
    "np.zeros((2,3))"
   ]
  },
  {
   "cell_type": "code",
   "execution_count": 4,
   "id": "c2f5f5f8",
   "metadata": {},
   "outputs": [
    {
     "data": {
      "text/plain": [
       "array([[[0., 0., 0., 0.],\n",
       "        [0., 0., 0., 0.]],\n",
       "\n",
       "       [[0., 0., 0., 0.],\n",
       "        [0., 0., 0., 0.]],\n",
       "\n",
       "       [[0., 0., 0., 0.],\n",
       "        [0., 0., 0., 0.]]])"
      ]
     },
     "execution_count": 4,
     "metadata": {},
     "output_type": "execute_result"
    }
   ],
   "source": [
    "np.zeros((3,2,4))"
   ]
  },
  {
   "cell_type": "code",
   "execution_count": 5,
   "id": "74998a13",
   "metadata": {},
   "outputs": [
    {
     "data": {
      "text/plain": [
       "array([1., 1., 1., 1.])"
      ]
     },
     "execution_count": 5,
     "metadata": {},
     "output_type": "execute_result"
    }
   ],
   "source": [
    "np.ones(4)"
   ]
  },
  {
   "cell_type": "code",
   "execution_count": 6,
   "id": "c90f5331",
   "metadata": {},
   "outputs": [
    {
     "data": {
      "text/plain": [
       "array([[1., 1., 1.],\n",
       "       [1., 1., 1.]])"
      ]
     },
     "execution_count": 6,
     "metadata": {},
     "output_type": "execute_result"
    }
   ],
   "source": [
    "np.ones((2,3))"
   ]
  },
  {
   "cell_type": "code",
   "execution_count": 7,
   "id": "4fde4e01",
   "metadata": {},
   "outputs": [
    {
     "data": {
      "text/plain": [
       "array([[124, 124, 124],\n",
       "       [124, 124, 124]])"
      ]
     },
     "execution_count": 7,
     "metadata": {},
     "output_type": "execute_result"
    }
   ],
   "source": [
    "np.full((2,3),124)"
   ]
  },
  {
   "cell_type": "code",
   "execution_count": 8,
   "id": "8b8bff46",
   "metadata": {},
   "outputs": [
    {
     "name": "stdout",
     "output_type": "stream",
     "text": [
      "[1 3 5 7 9]\n"
     ]
    }
   ],
   "source": [
    "\"\"\"\n",
    "np.arange(start,stop,end)-----> returns an numpy array\n",
    "\"\"\"\n",
    "print(np.arange(1,11,2))\n"
   ]
  },
  {
   "cell_type": "code",
   "execution_count": 9,
   "id": "2bb481b9",
   "metadata": {},
   "outputs": [
    {
     "data": {
      "text/plain": [
       "array([[1., 0., 0.],\n",
       "       [0., 1., 0.],\n",
       "       [0., 0., 1.]])"
      ]
     },
     "execution_count": 9,
     "metadata": {},
     "output_type": "execute_result"
    }
   ],
   "source": [
    "np.identity(3)"
   ]
  },
  {
   "cell_type": "code",
   "execution_count": 10,
   "id": "25d18195",
   "metadata": {},
   "outputs": [
    {
     "name": "stdout",
     "output_type": "stream",
     "text": [
      "2\n",
      "(2, 3)\n",
      "6\n"
     ]
    }
   ],
   "source": [
    "arr=np.array(\n",
    "    [\n",
    "        [1,2,3],\n",
    "        [4,5,6]\n",
    "    ]\n",
    ")\n",
    "print(arr.ndim)\n",
    "print(arr.shape)\n",
    "print(arr.size)"
   ]
  },
  {
   "cell_type": "code",
   "execution_count": 11,
   "id": "576fbb29",
   "metadata": {},
   "outputs": [
    {
     "name": "stdout",
     "output_type": "stream",
     "text": [
      "[12 13 14]\n"
     ]
    }
   ],
   "source": [
    "\"\"\"\n",
    "converting one type of numpy array to another type\n",
    ".astype(data_type)\n",
    "\"\"\"\n",
    "\n",
    "arr=np.array(['12','13','14'])\n",
    "arr=arr.astype(int)\n",
    "print(arr)"
   ]
  },
  {
   "cell_type": "code",
   "execution_count": 12,
   "id": "e72298bd",
   "metadata": {},
   "outputs": [
    {
     "name": "stdout",
     "output_type": "stream",
     "text": [
      "[3 4 5 6 7]\n",
      "[-1  0  1  2  3]\n",
      "[ 4  8 12 16 20]\n",
      "[0.5 1.  1.5 2.  2.5]\n",
      "[0 1 1 2 2]\n",
      "[1 2 0 1 2]\n"
     ]
    }
   ],
   "source": [
    "\"\"\"\n",
    "arithmetic operations on numpy array\n",
    "\"\"\"\n",
    "np_array=np.array([1,2,3,4,5])\n",
    "print(np_array+2)\n",
    "print(np_array-2)\n",
    "print(np_array*4)\n",
    "print(np_array/2)\n",
    "print(np_array//2)\n",
    "print(np_array%3)"
   ]
  },
  {
   "cell_type": "code",
   "execution_count": 13,
   "id": "9a82ea42",
   "metadata": {},
   "outputs": [
    {
     "name": "stdout",
     "output_type": "stream",
     "text": [
      "57\n",
      "1\n",
      "12\n",
      "5.7\n",
      "3.2264531609803355\n",
      "5.5\n",
      "[1 4 5]\n"
     ]
    }
   ],
   "source": [
    "\"\"\"\n",
    "application of statistics on numpy array\n",
    "\"\"\"\n",
    "np_array=np.array([1,2,3,4,5,6,7,8,9,12])\n",
    "print(np.sum(np_array))\n",
    "print(np.min(np_array))\n",
    "print(np.max(np_array))\n",
    "print(np.mean(np_array))\n",
    "print(np.std(np_array))\n",
    "print(np.median(np_array))\n",
    "\n",
    "print(np_array[[0,3,4]])"
   ]
  },
  {
   "cell_type": "code",
   "execution_count": 14,
   "id": "d5bc52cd",
   "metadata": {},
   "outputs": [
    {
     "name": "stdout",
     "output_type": "stream",
     "text": [
      "[ True False False False  True  True False False]\n"
     ]
    }
   ],
   "source": [
    "\"\"\"\n",
    "boolean masking of numpy array\n",
    "\"\"\"\n",
    "\n",
    "np_array=np.array([142,122,110,108,145,165,98,34])\n",
    "print(np_array>132)"
   ]
  },
  {
   "cell_type": "code",
   "execution_count": 15,
   "id": "fde8eaf5",
   "metadata": {},
   "outputs": [
    {
     "name": "stdout",
     "output_type": "stream",
     "text": [
      "[[ 1  2  3  4]\n",
      " [12 13 14 15]\n",
      " [21 22 23 24]]\n",
      "[[ 1  2]\n",
      " [ 3  4]\n",
      " [12 13]\n",
      " [14 15]\n",
      " [21 22]\n",
      " [23 24]]\n",
      "[[   1    2    3    4]\n",
      " [-124   13   14   15]\n",
      " [  21   22   23   24]]\n"
     ]
    }
   ],
   "source": [
    "\"\"\"\n",
    ".reshape((row,col)) ----> we have to maintain the shape\n",
    "it creates a view of the original array..so any change in the view \n",
    "will also reflect on the main array\n",
    "\"\"\"\n",
    "\n",
    "np_arr=np.array([[1,2,3,4],[12,13,14,15],[21,22,23,24]])\n",
    "print(np_arr)\n",
    "np_arr2=np_arr.reshape((6,2))\n",
    "print(np_arr2)\n",
    "np_arr2[2,0]=-124\n",
    "print(np_arr)"
   ]
  },
  {
   "cell_type": "code",
   "execution_count": 16,
   "id": "bf5a450f",
   "metadata": {},
   "outputs": [
    {
     "name": "stdout",
     "output_type": "stream",
     "text": [
      "[[1 2 3 4]\n",
      " [5 6 7 8]]\n",
      "[1 2 3 4 5 6 7 8]\n",
      "[1 2 3 4 5 6 7 8]\n",
      "[   1    2 -123    4    5    6    7    8]\n",
      "[[1 2 3 4]\n",
      " [5 6 7 8]]\n",
      "[[   1    2 -123    4]\n",
      " [   5    6    7    8]]\n"
     ]
    }
   ],
   "source": [
    "\"\"\"\n",
    "array flattening means converting multi dimensional array\n",
    "into 1D array\n",
    ".ravel() ----> it creates a view of the main array\n",
    ".flatten() ---> it creates a copy of the main array\n",
    "\"\"\"\n",
    "\n",
    "arr_2d=np.array(\n",
    "    [\n",
    "        [1,2,3,4],\n",
    "        [5,6,7,8]\n",
    "    ]\n",
    ")\n",
    "print(arr_2d)\n",
    "arr1=arr_2d.ravel()\n",
    "print(arr1)\n",
    "arr2=arr_2d.flatten()\n",
    "print(arr2)\n",
    "arr2[2]=-123\n",
    "print(arr2)\n",
    "print(arr_2d)\n",
    "arr1[2]=-123\n",
    "print(arr_2d)"
   ]
  },
  {
   "cell_type": "code",
   "execution_count": 17,
   "id": "2d1cfa1f",
   "metadata": {},
   "outputs": [
    {
     "name": "stdout",
     "output_type": "stream",
     "text": [
      "[  10   12   15 -124   17   19   21]\n"
     ]
    }
   ],
   "source": [
    "\"\"\"\n",
    "to insert an element in the numpy array\n",
    "np.insert(array,index,value,axis)\n",
    "array ---> our main array\n",
    "index ---> the index at which we want to insert a new element\n",
    "value ---> the value we want to insert\n",
    "axis ----> axis=0 means row wise,axis=1 means column wise\n",
    "\"\"\"\n",
    "\n",
    "arr=np.array([10,12,15,17,19,21])\n",
    "new_arr=np.insert(arr,3,-124,axis=None)\n",
    "print(new_arr)"
   ]
  },
  {
   "cell_type": "code",
   "execution_count": 18,
   "id": "04a1b0fd",
   "metadata": {},
   "outputs": [
    {
     "name": "stdout",
     "output_type": "stream",
     "text": [
      "[[   1    2    3    4]\n",
      " [   2   21  121 1212]\n",
      " [  12   13   14   15]\n",
      " [ 198  199  200  201]]\n",
      "[[  1   2 124 124 124   3   4]\n",
      " [ 12  13 124 124 124  14  15]\n",
      " [198 199 124 124 124 200 201]]\n"
     ]
    }
   ],
   "source": [
    "arr_2D=np.array([[1,2,3,4],[12,13,14,15],[198,199,200,201]])\n",
    "new_arr_2D=np.insert(arr_2D,1,[2,21,121,1212],axis=0)\n",
    "print(new_arr_2D)\n",
    "\n",
    "new_arr_2D = np.insert(arr_2D, 2, [[124], [124], [124]], axis=1)\n",
    "print(new_arr_2D)"
   ]
  },
  {
   "cell_type": "code",
   "execution_count": 19,
   "id": "f7962e09",
   "metadata": {},
   "outputs": [
    {
     "name": "stdout",
     "output_type": "stream",
     "text": [
      "[1 2 3 4 5 6]\n",
      "[  1   2   3   4   5   6 123 124 125]\n"
     ]
    }
   ],
   "source": [
    "\"\"\"\n",
    "np.append() ---> to add an element,row or column in the numpy array\n",
    "\"\"\"\n",
    "np_array=np.array([1,2,3,4,5,6])\n",
    "print(np_array)\n",
    "np_array=np.append(np_array,[123,124,125],axis=None)\n",
    "print(np_array)"
   ]
  },
  {
   "cell_type": "code",
   "execution_count": 20,
   "id": "3d5bebb5",
   "metadata": {},
   "outputs": [
    {
     "name": "stdout",
     "output_type": "stream",
     "text": [
      "[[ 1  3  4]\n",
      " [12 13 14]\n",
      " [56 57 58]]\n",
      "[[ 1  3  4]\n",
      " [12 13 14]\n",
      " [56 57 58]\n",
      " [-1 -2 -3]]\n",
      "[[   1    3    4 -124]\n",
      " [  12   13   14 -125]\n",
      " [  56   57   58 -125]\n",
      " [  -1   -2   -3 -126]]\n"
     ]
    }
   ],
   "source": [
    "np_array=np.array([[1,3,4],[12,13,14],[56,57,58]])\n",
    "print(np_array)\n",
    "np_array=np.append(np_array,[[-1,-2,-3]],axis=0)\n",
    "print(np_array)\n",
    "np_array=np.append(np_array,[[-124],[-125],[-125],[-126]],axis=1)\n",
    "print(np_array)"
   ]
  },
  {
   "cell_type": "code",
   "execution_count": 21,
   "id": "fbca5d86",
   "metadata": {},
   "outputs": [
    {
     "name": "stdout",
     "output_type": "stream",
     "text": [
      "[1 2 3 4 5 6]\n",
      "[[  1   2 121 123]\n",
      " [  3   4 124 125]]\n"
     ]
    }
   ],
   "source": [
    "\"\"\"\n",
    "np.concatenate((a1,a2),axis)\n",
    "axis=0 ----> horizontal stacking\n",
    "axis=1 ----> vertical stacking\n",
    "\"\"\"\n",
    "\n",
    "a1=np.array([1,2,3])\n",
    "a2=np.array([4,5,6])\n",
    "new_arr=np.concatenate((a1,a2),axis=0)\n",
    "print(new_arr)\n",
    "a1=np.array(\n",
    "    [\n",
    "        [1,2],\n",
    "        [3,4]\n",
    "    ]\n",
    ")\n",
    "a2=np.array(\n",
    "    [\n",
    "        [121,123],\n",
    "        [124,125]\n",
    "    ]\n",
    ")\n",
    "\n",
    "new_arr=np.concatenate((a1,a2),1)\n",
    "print(new_arr)\n"
   ]
  },
  {
   "cell_type": "code",
   "execution_count": 22,
   "id": "ca425559",
   "metadata": {},
   "outputs": [
    {
     "name": "stdout",
     "output_type": "stream",
     "text": [
      "[1 2 4 5 6]\n"
     ]
    }
   ],
   "source": [
    "\"\"\"\n",
    "to delete an element from the numpy array we use np.delete()\n",
    "np.delete(array,index,axis)\n",
    "\"\"\"\n",
    "a1=np.array([1,2,3,4,5,6])\n",
    "a1=np.delete(a1,2)\n",
    "print(a1)"
   ]
  },
  {
   "cell_type": "code",
   "execution_count": 23,
   "id": "e093b6ee",
   "metadata": {},
   "outputs": [
    {
     "name": "stdout",
     "output_type": "stream",
     "text": [
      "[[4 5 6]\n",
      " [7 8 9]]\n",
      "[[5 6]\n",
      " [8 9]]\n"
     ]
    }
   ],
   "source": [
    "a1=np.array(\n",
    "    [\n",
    "        [1,2,3],\n",
    "        [4,5,6],\n",
    "        [7,8,9]\n",
    "    ]\n",
    ")\n",
    "a1=np.delete(a1,0,axis=0)\n",
    "print(a1)\n",
    "a1=np.delete(a1,0,axis=1)\n",
    "print(a1)"
   ]
  },
  {
   "cell_type": "code",
   "execution_count": 24,
   "id": "1457cae9",
   "metadata": {},
   "outputs": [
    {
     "name": "stdout",
     "output_type": "stream",
     "text": [
      "[[  1   2   3   4]\n",
      " [124 125 126 127]\n",
      " [ -1  -2  -3  -4]\n",
      " [ -7  -8  -9 -10]]\n",
      "[[[  1   2   3   4]\n",
      "  [124 125 126 127]]\n",
      "\n",
      " [[ -1  -2  -3  -4]\n",
      "  [ -7  -8  -9 -10]]]\n"
     ]
    }
   ],
   "source": [
    "\"\"\"\n",
    "to combine two numpy arrays we use\n",
    "np.vstack() ----> for vertical stacking\n",
    "np.hstack() ----> for horizontal stacking\n",
    "\"\"\"\n",
    "\n",
    "a1=np.array([[1,2,3,4],[124,125,126,127]])\n",
    "a2=np.array([[-1,-2,-3,-4],[-7,-8,-9,-10]])\n",
    "a3=np.vstack((a1,a2))\n",
    "a4=np.stack((a1,a2))\n",
    "print(a3)\n",
    "print(a4)"
   ]
  },
  {
   "cell_type": "code",
   "execution_count": 25,
   "id": "1d960c55",
   "metadata": {},
   "outputs": [
    {
     "name": "stdout",
     "output_type": "stream",
     "text": [
      "[array([1, 2, 3]), array([4, 5, 6])]\n",
      "[array([1, 2]), array([3, 4]), array([5, 6])]\n"
     ]
    }
   ],
   "source": [
    "\"\"\"\n",
    "to split an array into two equal parts\n",
    "np.split()\n",
    "\n",
    "to split horizontally we use np.hsplit()\n",
    "to split vertically we use np.vsplit()\n",
    "\"\"\"\n",
    "\n",
    "arr=np.array([1,2,3,4,5,6])\n",
    "print(np.split(arr,2))\n",
    "print(np.split(arr,3))\n",
    "# print(np.split(arr,4))"
   ]
  },
  {
   "cell_type": "code",
   "execution_count": 26,
   "id": "0d782be5",
   "metadata": {},
   "outputs": [
    {
     "name": "stdout",
     "output_type": "stream",
     "text": [
      "[[  1   2   3   4]\n",
      " [124 125 126 127]\n",
      " [ 12  13  14  15]\n",
      " [ 21  22  23  24]]\n",
      "[[  1   2   3   4  12  13  14  15]\n",
      " [124 125 126 127  21  22  23  24]]\n"
     ]
    }
   ],
   "source": [
    "\"\"\"\n",
    "to combine two numpy array we use\n",
    "np.vstack() ------> for vertical stacking\n",
    "np.hstack() ------> for horizontal stacking\n",
    "\"\"\"\n",
    "\n",
    "a1=np.array([[1,2,3,4],[124,125,126,127]])\n",
    "a2=np.array([[12,13,14,15],[21,22,23,24]])\n",
    "a3=np.vstack((a1,a2))\n",
    "print(a3)\n",
    "a4=np.hstack((a1,a2))\n",
    "print(a4)"
   ]
  },
  {
   "cell_type": "code",
   "execution_count": 27,
   "id": "f1398884",
   "metadata": {},
   "outputs": [
    {
     "name": "stdout",
     "output_type": "stream",
     "text": [
      "8\n",
      "128\n"
     ]
    }
   ],
   "source": [
    "# to get the size of the each item of the array\n",
    "print(a4.itemsize)\n",
    "# to get the total memeory\n",
    "print(a4.nbytes)"
   ]
  },
  {
   "cell_type": "code",
   "execution_count": 28,
   "id": "c401efce",
   "metadata": {},
   "outputs": [
    {
     "name": "stdout",
     "output_type": "stream",
     "text": [
      "127\n",
      "[[  3   4]\n",
      " [126 127]]\n"
     ]
    }
   ],
   "source": [
    "# to get a specific element from numpy arrray [r,c]\n",
    "print(a1[1,3])\n",
    "print(a1[:,2:4])"
   ]
  },
  {
   "cell_type": "code",
   "execution_count": 29,
   "id": "d5f653d0",
   "metadata": {},
   "outputs": [
    {
     "name": "stdout",
     "output_type": "stream",
     "text": [
      "[[  1   3]\n",
      " [124 126]]\n",
      "[ 8  9 10 11 12 13 14]\n",
      "[  2   9 125  -2 -13]\n"
     ]
    }
   ],
   "source": [
    "a=np.array([[1,2,3,4,5,6,7],[8,9,10,11,12,13,14],[124,125,126,127,128,129,130],[-1,-2,-3,-4,-5,-6,-7],[-12,-13,-14,-15,-16,-17,-18]])\n",
    "print(a[:3:2,:4:2])\n",
    "print(a[1,:])\n",
    "print(a[:,1])"
   ]
  },
  {
   "cell_type": "code",
   "execution_count": 30,
   "id": "a5adcc20",
   "metadata": {},
   "outputs": [
    {
     "name": "stdout",
     "output_type": "stream",
     "text": [
      "[[    1     2     3     4     5     6     7]\n",
      " [    8     9    10 -1000  1000    13    14]\n",
      " [  124   125   126   127   128   129   130]\n",
      " [   -1    -2    -3    -4    -5    -6    -7]\n",
      " [  -12   -13   -14   -15   -16   -17   -18]]\n",
      "[[    1     2     3     4     5     6     7]\n",
      " [    8     9    10 -1000  1000    13    14]\n",
      " [  -70   125   -80   127   -90   129   130]\n",
      " [   -1    -2    -3    -4    -5    -6    -7]\n",
      " [  -12   -13   -14   -15   -16   -17   -18]]\n"
     ]
    }
   ],
   "source": [
    "a[1,3:5]=[-1000,1000]\n",
    "print(a)\n",
    "a[2,:6:2]=[-70,-80,-90]\n",
    "print(a)"
   ]
  },
  {
   "cell_type": "code",
   "execution_count": 31,
   "id": "42737e9c",
   "metadata": {},
   "outputs": [
    {
     "name": "stdout",
     "output_type": "stream",
     "text": [
      "[[ 2  3  4]\n",
      " [12 13 14]]\n",
      "[[12 12 12]\n",
      " [12 12 12]]\n"
     ]
    }
   ],
   "source": [
    "a=np.array([[2,3,4],[12,13,14]])\n",
    "print(a)\n",
    "b=np.full_like(a,12)\n",
    "print(b)"
   ]
  },
  {
   "cell_type": "code",
   "execution_count": 32,
   "id": "52455a24",
   "metadata": {},
   "outputs": [
    {
     "name": "stdout",
     "output_type": "stream",
     "text": [
      "[[0.525974   0.18128476 0.33282458]\n",
      " [0.92602882 0.36671311 0.35276716]]\n"
     ]
    }
   ],
   "source": [
    "\"\"\"\n",
    "to fill an array with random decimal numbers\n",
    "np.random.rand()\n",
    "\"\"\"\n",
    "\n",
    "a=np.random.rand(2,3)\n",
    "print(a)"
   ]
  },
  {
   "cell_type": "code",
   "execution_count": 33,
   "id": "92936a1b",
   "metadata": {},
   "outputs": [
    {
     "name": "stdout",
     "output_type": "stream",
     "text": [
      "[[ 6 12  0]\n",
      " [ 9  6  1]]\n"
     ]
    }
   ],
   "source": [
    "a=np.random.randint(0,13,(2,3))\n",
    "print(a)"
   ]
  },
  {
   "cell_type": "code",
   "execution_count": 34,
   "id": "ec3e67b6",
   "metadata": {},
   "outputs": [
    {
     "name": "stdout",
     "output_type": "stream",
     "text": [
      "[1 1 1 1 2 2 2 2 3 3 3 3]\n"
     ]
    }
   ],
   "source": [
    "# to repeat an array\n",
    "a=np.array([1,2,3])\n",
    "b=np.repeat(a,4,axis=0)\n",
    "print(b)"
   ]
  },
  {
   "cell_type": "code",
   "execution_count": 35,
   "id": "7a42b5f2",
   "metadata": {},
   "outputs": [
    {
     "name": "stdout",
     "output_type": "stream",
     "text": [
      "[[1 2 3]\n",
      " [1 2 3]\n",
      " [1 2 3]]\n",
      "[[1 1 1 2 2 2 3 3 3]]\n"
     ]
    }
   ],
   "source": [
    "a=np.array([[1,2,3]])\n",
    "b=np.repeat(a,3,axis=0)\n",
    "print(b)\n",
    "b=np.repeat(a,3,axis=1)\n",
    "print(b)"
   ]
  },
  {
   "cell_type": "code",
   "execution_count": 36,
   "id": "ebbecd7a",
   "metadata": {},
   "outputs": [
    {
     "name": "stdout",
     "output_type": "stream",
     "text": [
      "[  1 123   3]\n",
      "[  1 123   3]\n"
     ]
    }
   ],
   "source": [
    "\"\"\"\n",
    "be carefull of copying numpy arrays.....they are copied as reference\n",
    "any change in the copied array will also reflect in the main array\n",
    "\"\"\"\n",
    "a=np.array([1,2,3])\n",
    "b=a\n",
    "b[1]=123\n",
    "print(a)\n",
    "b=a.copy()\n",
    "b[1]=145\n",
    "print(a)"
   ]
  },
  {
   "cell_type": "code",
   "execution_count": 37,
   "id": "c10f11c1",
   "metadata": {},
   "outputs": [
    {
     "name": "stdout",
     "output_type": "stream",
     "text": [
      "[0.         0.5        0.70710678 0.8660254  1.        ]\n",
      "[1.00000000e+00 8.66025404e-01 7.07106781e-01 5.00000000e-01\n",
      " 6.12323400e-17]\n"
     ]
    }
   ],
   "source": [
    "\"\"\"\n",
    "we can apply trigonometric functions on numpy array\n",
    "\"\"\"\n",
    "a=np.array([0,np.pi/6,np.pi/4,np.pi/3,np.pi/2])\n",
    "print(np.sin(a))\n",
    "print(np.cos(a))"
   ]
  },
  {
   "cell_type": "code",
   "execution_count": 38,
   "id": "109c9f7b",
   "metadata": {},
   "outputs": [
    {
     "name": "stdout",
     "output_type": "stream",
     "text": [
      "(3, 3)\n",
      "(3, 2)\n",
      "[[ 22  28]\n",
      " [ 49  64]\n",
      " [ 76 100]]\n"
     ]
    }
   ],
   "source": [
    "\"\"\"\n",
    "we can do all sorts of linear algebra calculations using numpy array\n",
    "\"\"\"\n",
    "a1=np.array([\n",
    "    [1,2,3],\n",
    "    [4,5,6],\n",
    "    [7,8,9]\n",
    "])\n",
    "print(a1.shape)\n",
    "a2=np.array([\n",
    "    [1,2],\n",
    "    [3,4],\n",
    "    [5,6]\n",
    "])\n",
    "print(a2.shape)\n",
    "ans=np.matmul(a1,a2)\n",
    "print(ans)"
   ]
  },
  {
   "cell_type": "code",
   "execution_count": 39,
   "id": "c3c6fa83",
   "metadata": {},
   "outputs": [
    {
     "name": "stdout",
     "output_type": "stream",
     "text": [
      "1.0\n"
     ]
    }
   ],
   "source": [
    "c=np.identity(3)\n",
    "print(np.linalg.det(c))"
   ]
  },
  {
   "cell_type": "code",
   "execution_count": 40,
   "id": "8d1e7ea6",
   "metadata": {},
   "outputs": [
    {
     "name": "stdout",
     "output_type": "stream",
     "text": [
      "[[ 2. -1.]\n",
      " [-1.  1.]]\n"
     ]
    }
   ],
   "source": [
    "a=np.array([\n",
    "    [1,1],\n",
    "    [1,2]\n",
    "])\n",
    "inv_a=np.linalg.inv(a)\n",
    "print(inv_a)"
   ]
  },
  {
   "cell_type": "code",
   "execution_count": 41,
   "id": "12f72741",
   "metadata": {},
   "outputs": [
    {
     "name": "stdout",
     "output_type": "stream",
     "text": [
      "[ 90. 180. 270.]\n",
      "[20 40 60]\n",
      "[[11 22 33]\n",
      " [14 25 36]]\n"
     ]
    }
   ],
   "source": [
    "\"\"\"\n",
    "broadcasting in numpy arrays\n",
    "it is basically applying some conditions on the whole array\n",
    "without using any loops\n",
    "three conditions\n",
    "1.matching dimensions\n",
    "2.expanding single elements\n",
    "a1=np.array([10,20,30])\n",
    "print(a1+10) ----> here 10 is considered as [10,10,10]\n",
    "3.incompatable shapes ----> if the shapes are different then numpy will\n",
    "throw an error\n",
    "\"\"\"\n",
    "\n",
    "price=np.array([100,200,300])\n",
    "final_price=price-(price*10/100)\n",
    "print(final_price)\n",
    "arr=np.array([10,20,30])\n",
    "print(arr*2)\n",
    "matrix=np.array([[1,2,3],[4,5,6]])\n",
    "vector=np.array([10,20,30])\n",
    "vector2=np.array([10,20])\n",
    "result=matrix+vector\n",
    "print(result)\n",
    "# result=matrix+vector2\n",
    "# print(result)"
   ]
  },
  {
   "cell_type": "code",
   "execution_count": 42,
   "id": "7a3b9e38",
   "metadata": {},
   "outputs": [
    {
     "name": "stdout",
     "output_type": "stream",
     "text": [
      "[ 1.  2. nan  4. nan  6.]\n",
      "[False False  True False  True False]\n",
      "[1. 2. 0. 4. 0. 6.]\n",
      "[ 1.  2. -1.  4. -1.  6.]\n"
     ]
    }
   ],
   "source": [
    "\"\"\"\n",
    "handling the missing values using numpy arrays\n",
    "np.isnan() ----> to detect missing values\n",
    "np.nan_to_num() ----> converting the missing values to another number\n",
    "np.isinf() -----> to detect the infinite values\n",
    "\"\"\"\n",
    "\n",
    "\"\"\"\n",
    "NAN ----> Not a Number\n",
    "\"\"\"\n",
    "\n",
    "arr=np.array([1,2,np.nan,4,np.nan,6])\n",
    "print(arr)\n",
    "print(np.isnan(arr))\n",
    "print(np.nan_to_num(arr,nan=0))\n",
    "print(np.nan_to_num(arr,nan=-1))"
   ]
  },
  {
   "cell_type": "code",
   "execution_count": 43,
   "id": "808230da",
   "metadata": {},
   "outputs": [
    {
     "name": "stdout",
     "output_type": "stream",
     "text": [
      "[  1.   2.  inf   3.   4. -inf]\n",
      "[False False  True False False  True]\n",
      "[   1.    2.  100.    3.    4. -100.]\n"
     ]
    }
   ],
   "source": [
    "arr=np.array([1,2,np.inf,3,4,-np.inf])\n",
    "print(arr)\n",
    "print(np.isinf(arr))\n",
    "print(np.nan_to_num(arr,posinf=100,neginf=-100))"
   ]
  },
  {
   "cell_type": "code",
   "execution_count": 44,
   "id": "6a037a6f",
   "metadata": {},
   "outputs": [
    {
     "name": "stdout",
     "output_type": "stream",
     "text": [
      "[1 5 9]\n",
      "[[10  0  0]\n",
      " [ 0 20  0]\n",
      " [ 0  0 30]]\n",
      "[1 2 3]\n",
      "[[1 0 0]\n",
      " [0 2 0]\n",
      " [0 0 3]]\n",
      "[[ 1 -1  0]\n",
      " [ 0  2 -2]\n",
      " [ 0  0  3]]\n"
     ]
    }
   ],
   "source": [
    "\"\"\"\n",
    "np.diag() function is used to extract the diagonal values from a matrix\n",
    "\"\"\"\n",
    "a=np.array([\n",
    "    [1,2,3],\n",
    "    [4,5,6],\n",
    "    [7,8,9]\n",
    "])\n",
    "b=np.diag(a)\n",
    "print(b)\n",
    "a=np.array([10,20,30])\n",
    "b=np.diag(a)\n",
    "print(b)\n",
    "c=np.array([1,2,3])\n",
    "print(c)\n",
    "d=np.diag(c)\n",
    "print(d)\n",
    "d=np.diag(c)+np.diag([-1,-2],k=1)\n",
    "print(d)\n"
   ]
  },
  {
   "cell_type": "code",
   "execution_count": 45,
   "id": "3c8c0fbf",
   "metadata": {},
   "outputs": [
    {
     "name": "stdout",
     "output_type": "stream",
     "text": [
      "[[ 1  0  0  0  0  0  0  0  0  0]\n",
      " [ 0  2  0  0  0  0  0  0  0  0]\n",
      " [ 0  0  3  0  0  0  0  0  0  0]\n",
      " [ 0  0  0  4  0  0  0  0  0  0]\n",
      " [ 0  0  0  0  5  0  0  0  0  0]\n",
      " [ 0  0  0  0  0  6  0  0  0  0]\n",
      " [ 0  0  0  0  0  0  7  0  0  0]\n",
      " [ 0  0  0  0  0  0  0  8  0  0]\n",
      " [ 0  0  0  0  0  0  0  0  9  0]\n",
      " [ 0  0  0  0  0  0  0  0  0 10]]\n"
     ]
    }
   ],
   "source": [
    "a=np.array([1,2,3,4,5,6,7,8,9,10])\n",
    "b=np.diag(a)\n",
    "print(b)"
   ]
  },
  {
   "cell_type": "code",
   "execution_count": 46,
   "id": "46ab24d8",
   "metadata": {},
   "outputs": [
    {
     "name": "stdout",
     "output_type": "stream",
     "text": [
      "[[ 1 -1  0  0  0  0  0  0  0  0]\n",
      " [ 0  2 -2  0  0  0  0  0  0  0]\n",
      " [ 0  0  3 -3  0  0  0  0  0  0]\n",
      " [ 0  0  0  4 -4  0  0  0  0  0]\n",
      " [ 0  0  0  0  5 -5  0  0  0  0]\n",
      " [ 0  0  0  0  0  6 -6  0  0  0]\n",
      " [ 0  0  0  0  0  0  7 -7  0  0]\n",
      " [ 0  0  0  0  0  0  0  8 -8  0]\n",
      " [ 0  0  0  0  0  0  0  0  9 -9]\n",
      " [ 0  0  0  0  0  0  0  0  0 10]]\n"
     ]
    }
   ],
   "source": [
    "c=np.array([-1,-2,-3,-4,-5,-6,-7,-8,-9])\n",
    "b=b+np.diag(c,k=1)\n",
    "print(b)"
   ]
  },
  {
   "cell_type": "code",
   "execution_count": 47,
   "id": "a3aaaab3",
   "metadata": {},
   "outputs": [
    {
     "name": "stdout",
     "output_type": "stream",
     "text": [
      "[[  1  -1   0   0   0   0   0   0   0   0]\n",
      " [100   2  -2   0   0   0   0   0   0   0]\n",
      " [  0 200   3  -3   0   0   0   0   0   0]\n",
      " [  0   0 300   4  -4   0   0   0   0   0]\n",
      " [  0   0   0 400   5  -5   0   0   0   0]\n",
      " [  0   0   0   0 500   6  -6   0   0   0]\n",
      " [  0   0   0   0   0 600   7  -7   0   0]\n",
      " [  0   0   0   0   0   0 700   8  -8   0]\n",
      " [  0   0   0   0   0   0   0 800   9  -9]\n",
      " [  0   0   0   0   0   0   0   0 900  10]]\n"
     ]
    }
   ],
   "source": [
    "d=np.array([100,200,300,400,500,600,700,800,900])\n",
    "b=b+np.diag(d,k=-1)\n",
    "print(b)"
   ]
  },
  {
   "cell_type": "code",
   "execution_count": 48,
   "id": "0cfca9f3",
   "metadata": {},
   "outputs": [
    {
     "name": "stdout",
     "output_type": "stream",
     "text": [
      "(1, 1, 0)\n",
      "6\n"
     ]
    }
   ],
   "source": [
    "\"\"\"\n",
    "to get the index of any specific element of a matrix\n",
    "we use unravel_index(index,shape) function\n",
    "np.unravel_index(index,shape)\n",
    "\"\"\"\n",
    "\n",
    "print(np.unravel_index(6,(2,2,2)))\n",
    "a=np.array([\n",
    "    [\n",
    "        [1,2],\n",
    "        [3,4]\n",
    "    ],\n",
    "    [\n",
    "        [4,5],\n",
    "        [6,7]\n",
    "    ]\n",
    "])\n",
    "print(a[1,1,0])\n",
    "\n"
   ]
  },
  {
   "cell_type": "code",
   "execution_count": 49,
   "id": "dd4474d0",
   "metadata": {},
   "outputs": [
    {
     "name": "stdout",
     "output_type": "stream",
     "text": [
      "[1 2 3 1 2 3 1 2 3]\n",
      "[[1 2]\n",
      " [3 4]]\n",
      "[[1 2 1 2 1 2]\n",
      " [3 4 3 4 3 4]\n",
      " [1 2 1 2 1 2]\n",
      " [3 4 3 4 3 4]]\n"
     ]
    }
   ],
   "source": [
    "\"\"\"\n",
    "to repeat an array we use tile function\n",
    "np.tile(array,reps)\n",
    "\n",
    ".repeat() function repeats the elements not the whole array\n",
    "\"\"\"\n",
    "\n",
    "a=np.array([1,2,3])\n",
    "b=np.tile(a,3)\n",
    "print(b)\n",
    "a=np.array([\n",
    "    [1,2],\n",
    "    [3,4]\n",
    "])\n",
    "print(a)\n",
    "b=np.tile(a,(2,3)) # (2,3) ----> vertically twice and horizontally thrice\n",
    "print(b)"
   ]
  },
  {
   "cell_type": "code",
   "execution_count": null,
   "id": "e42e39b6",
   "metadata": {},
   "outputs": [],
   "source": []
  },
  {
   "cell_type": "code",
   "execution_count": null,
   "id": "50493930",
   "metadata": {},
   "outputs": [],
   "source": []
  },
  {
   "cell_type": "code",
   "execution_count": null,
   "id": "1f822390",
   "metadata": {},
   "outputs": [],
   "source": []
  },
  {
   "cell_type": "code",
   "execution_count": null,
   "id": "5a07cee0",
   "metadata": {},
   "outputs": [],
   "source": []
  },
  {
   "cell_type": "code",
   "execution_count": null,
   "id": "73114767",
   "metadata": {},
   "outputs": [],
   "source": []
  },
  {
   "cell_type": "code",
   "execution_count": null,
   "id": "fab36a8b",
   "metadata": {},
   "outputs": [],
   "source": []
  },
  {
   "cell_type": "code",
   "execution_count": null,
   "id": "782fa775",
   "metadata": {},
   "outputs": [],
   "source": []
  },
  {
   "cell_type": "code",
   "execution_count": null,
   "id": "4232c161",
   "metadata": {},
   "outputs": [],
   "source": []
  },
  {
   "cell_type": "code",
   "execution_count": null,
   "id": "5940d774",
   "metadata": {},
   "outputs": [],
   "source": []
  },
  {
   "cell_type": "code",
   "execution_count": null,
   "id": "149ffb45",
   "metadata": {},
   "outputs": [],
   "source": []
  },
  {
   "cell_type": "code",
   "execution_count": null,
   "id": "d08c7363",
   "metadata": {},
   "outputs": [],
   "source": []
  },
  {
   "cell_type": "code",
   "execution_count": null,
   "id": "ff684f1c",
   "metadata": {},
   "outputs": [],
   "source": []
  },
  {
   "cell_type": "code",
   "execution_count": null,
   "id": "fc4854d0",
   "metadata": {},
   "outputs": [],
   "source": []
  },
  {
   "cell_type": "code",
   "execution_count": null,
   "id": "f55e9a6c",
   "metadata": {},
   "outputs": [],
   "source": []
  },
  {
   "cell_type": "code",
   "execution_count": null,
   "id": "7303a752",
   "metadata": {},
   "outputs": [],
   "source": []
  },
  {
   "cell_type": "code",
   "execution_count": null,
   "id": "3b89b7ff",
   "metadata": {},
   "outputs": [],
   "source": []
  },
  {
   "cell_type": "code",
   "execution_count": null,
   "id": "4e123c0d",
   "metadata": {},
   "outputs": [],
   "source": []
  },
  {
   "cell_type": "code",
   "execution_count": null,
   "id": "5aec5893",
   "metadata": {},
   "outputs": [],
   "source": []
  },
  {
   "cell_type": "code",
   "execution_count": null,
   "id": "4b45415a",
   "metadata": {},
   "outputs": [],
   "source": []
  },
  {
   "cell_type": "code",
   "execution_count": null,
   "id": "737229b1",
   "metadata": {},
   "outputs": [],
   "source": []
  },
  {
   "cell_type": "code",
   "execution_count": null,
   "id": "1a8b3278",
   "metadata": {},
   "outputs": [],
   "source": []
  },
  {
   "cell_type": "code",
   "execution_count": null,
   "id": "b4131727",
   "metadata": {},
   "outputs": [],
   "source": []
  },
  {
   "cell_type": "code",
   "execution_count": null,
   "id": "310eabd2",
   "metadata": {},
   "outputs": [],
   "source": []
  },
  {
   "cell_type": "code",
   "execution_count": null,
   "id": "3ee0b77c",
   "metadata": {},
   "outputs": [],
   "source": []
  },
  {
   "cell_type": "code",
   "execution_count": null,
   "id": "1c44680d",
   "metadata": {},
   "outputs": [],
   "source": []
  },
  {
   "cell_type": "code",
   "execution_count": null,
   "id": "32f6450e",
   "metadata": {},
   "outputs": [],
   "source": []
  },
  {
   "cell_type": "code",
   "execution_count": null,
   "id": "2429daf0",
   "metadata": {},
   "outputs": [],
   "source": []
  },
  {
   "cell_type": "code",
   "execution_count": null,
   "id": "96238543",
   "metadata": {},
   "outputs": [],
   "source": []
  },
  {
   "cell_type": "code",
   "execution_count": null,
   "id": "b7bece94",
   "metadata": {},
   "outputs": [],
   "source": []
  },
  {
   "cell_type": "code",
   "execution_count": null,
   "id": "f379cf87",
   "metadata": {},
   "outputs": [],
   "source": []
  },
  {
   "cell_type": "code",
   "execution_count": null,
   "id": "b6339e9c",
   "metadata": {},
   "outputs": [],
   "source": []
  },
  {
   "cell_type": "code",
   "execution_count": null,
   "id": "9d72c35a",
   "metadata": {},
   "outputs": [],
   "source": []
  },
  {
   "cell_type": "code",
   "execution_count": null,
   "id": "029d7d6d",
   "metadata": {},
   "outputs": [],
   "source": []
  },
  {
   "cell_type": "code",
   "execution_count": null,
   "id": "0a15c890",
   "metadata": {},
   "outputs": [],
   "source": []
  },
  {
   "cell_type": "code",
   "execution_count": null,
   "id": "65d94b0f",
   "metadata": {},
   "outputs": [],
   "source": []
  },
  {
   "cell_type": "code",
   "execution_count": null,
   "id": "2ce738a1",
   "metadata": {},
   "outputs": [],
   "source": []
  },
  {
   "cell_type": "code",
   "execution_count": null,
   "id": "2b81aa07",
   "metadata": {},
   "outputs": [],
   "source": []
  },
  {
   "cell_type": "code",
   "execution_count": null,
   "id": "a93f0f67",
   "metadata": {},
   "outputs": [],
   "source": []
  },
  {
   "cell_type": "code",
   "execution_count": null,
   "id": "9216cba0",
   "metadata": {},
   "outputs": [],
   "source": []
  },
  {
   "cell_type": "code",
   "execution_count": null,
   "id": "f55be0f0",
   "metadata": {},
   "outputs": [],
   "source": []
  },
  {
   "cell_type": "code",
   "execution_count": null,
   "id": "f8a000cc",
   "metadata": {},
   "outputs": [],
   "source": []
  },
  {
   "cell_type": "code",
   "execution_count": null,
   "id": "b2614dba",
   "metadata": {},
   "outputs": [],
   "source": []
  },
  {
   "cell_type": "code",
   "execution_count": null,
   "id": "615eab56",
   "metadata": {},
   "outputs": [],
   "source": []
  },
  {
   "cell_type": "code",
   "execution_count": null,
   "id": "62a11c6b",
   "metadata": {},
   "outputs": [],
   "source": []
  },
  {
   "cell_type": "code",
   "execution_count": null,
   "id": "0373578c",
   "metadata": {},
   "outputs": [],
   "source": []
  },
  {
   "cell_type": "code",
   "execution_count": null,
   "id": "af173080",
   "metadata": {},
   "outputs": [],
   "source": []
  },
  {
   "cell_type": "code",
   "execution_count": null,
   "id": "3607d620",
   "metadata": {},
   "outputs": [],
   "source": []
  },
  {
   "cell_type": "code",
   "execution_count": null,
   "id": "e3be9bd1",
   "metadata": {},
   "outputs": [],
   "source": []
  },
  {
   "cell_type": "code",
   "execution_count": null,
   "id": "2e914acc",
   "metadata": {},
   "outputs": [],
   "source": []
  },
  {
   "cell_type": "code",
   "execution_count": null,
   "id": "dc6f2f52",
   "metadata": {},
   "outputs": [],
   "source": []
  },
  {
   "cell_type": "code",
   "execution_count": null,
   "id": "4a5d360b",
   "metadata": {},
   "outputs": [],
   "source": []
  },
  {
   "cell_type": "code",
   "execution_count": null,
   "id": "231a9860",
   "metadata": {},
   "outputs": [],
   "source": []
  },
  {
   "cell_type": "code",
   "execution_count": null,
   "id": "5c63c404",
   "metadata": {},
   "outputs": [],
   "source": []
  },
  {
   "cell_type": "code",
   "execution_count": null,
   "id": "b5597002",
   "metadata": {},
   "outputs": [],
   "source": []
  },
  {
   "cell_type": "code",
   "execution_count": null,
   "id": "402cb0cb",
   "metadata": {},
   "outputs": [],
   "source": []
  },
  {
   "cell_type": "code",
   "execution_count": null,
   "id": "1a201570",
   "metadata": {},
   "outputs": [],
   "source": []
  },
  {
   "cell_type": "code",
   "execution_count": null,
   "id": "aee03e53",
   "metadata": {},
   "outputs": [],
   "source": []
  },
  {
   "cell_type": "code",
   "execution_count": null,
   "id": "ee038bcb",
   "metadata": {},
   "outputs": [],
   "source": []
  },
  {
   "cell_type": "code",
   "execution_count": null,
   "id": "3147991b",
   "metadata": {},
   "outputs": [],
   "source": []
  },
  {
   "cell_type": "code",
   "execution_count": null,
   "id": "a258aaf2",
   "metadata": {},
   "outputs": [],
   "source": []
  },
  {
   "cell_type": "code",
   "execution_count": null,
   "id": "2bac0e01",
   "metadata": {},
   "outputs": [],
   "source": []
  },
  {
   "cell_type": "code",
   "execution_count": null,
   "id": "b15674f7",
   "metadata": {},
   "outputs": [],
   "source": []
  },
  {
   "cell_type": "code",
   "execution_count": null,
   "id": "fe67d334",
   "metadata": {},
   "outputs": [],
   "source": []
  },
  {
   "cell_type": "code",
   "execution_count": null,
   "id": "4e8f29b6",
   "metadata": {},
   "outputs": [],
   "source": []
  },
  {
   "cell_type": "code",
   "execution_count": null,
   "id": "fdd5b6ad",
   "metadata": {},
   "outputs": [],
   "source": []
  },
  {
   "cell_type": "code",
   "execution_count": null,
   "id": "fd72ee8f",
   "metadata": {},
   "outputs": [],
   "source": []
  },
  {
   "cell_type": "code",
   "execution_count": null,
   "id": "24279703",
   "metadata": {},
   "outputs": [],
   "source": []
  },
  {
   "cell_type": "code",
   "execution_count": null,
   "id": "e9c598df",
   "metadata": {},
   "outputs": [],
   "source": []
  },
  {
   "cell_type": "code",
   "execution_count": null,
   "id": "4824eed5",
   "metadata": {},
   "outputs": [],
   "source": []
  },
  {
   "cell_type": "code",
   "execution_count": null,
   "id": "33417892",
   "metadata": {},
   "outputs": [],
   "source": []
  },
  {
   "cell_type": "code",
   "execution_count": null,
   "id": "2d2c3ff6",
   "metadata": {},
   "outputs": [],
   "source": []
  },
  {
   "cell_type": "code",
   "execution_count": null,
   "id": "1a5383cd",
   "metadata": {},
   "outputs": [],
   "source": []
  },
  {
   "cell_type": "code",
   "execution_count": null,
   "id": "263fdf8e",
   "metadata": {},
   "outputs": [],
   "source": []
  },
  {
   "cell_type": "code",
   "execution_count": null,
   "id": "6fbfa235",
   "metadata": {},
   "outputs": [],
   "source": []
  },
  {
   "cell_type": "code",
   "execution_count": null,
   "id": "f0abe7a2",
   "metadata": {},
   "outputs": [],
   "source": []
  },
  {
   "cell_type": "code",
   "execution_count": null,
   "id": "82b30364",
   "metadata": {},
   "outputs": [],
   "source": []
  },
  {
   "cell_type": "code",
   "execution_count": null,
   "id": "02d04a57",
   "metadata": {},
   "outputs": [],
   "source": []
  },
  {
   "cell_type": "code",
   "execution_count": null,
   "id": "978ab4c6",
   "metadata": {},
   "outputs": [],
   "source": []
  },
  {
   "cell_type": "code",
   "execution_count": null,
   "id": "9682bdde",
   "metadata": {},
   "outputs": [],
   "source": []
  },
  {
   "cell_type": "code",
   "execution_count": null,
   "id": "0693ec3f",
   "metadata": {},
   "outputs": [],
   "source": []
  },
  {
   "cell_type": "code",
   "execution_count": null,
   "id": "b8c8c6b4",
   "metadata": {},
   "outputs": [],
   "source": []
  },
  {
   "cell_type": "code",
   "execution_count": null,
   "id": "0ca0b92e",
   "metadata": {},
   "outputs": [],
   "source": []
  },
  {
   "cell_type": "code",
   "execution_count": null,
   "id": "04c052b2",
   "metadata": {},
   "outputs": [],
   "source": []
  },
  {
   "cell_type": "code",
   "execution_count": null,
   "id": "39709d96",
   "metadata": {},
   "outputs": [],
   "source": []
  },
  {
   "cell_type": "code",
   "execution_count": null,
   "id": "3fe98c6c",
   "metadata": {},
   "outputs": [],
   "source": []
  },
  {
   "cell_type": "code",
   "execution_count": null,
   "id": "672ed24a",
   "metadata": {},
   "outputs": [],
   "source": []
  },
  {
   "cell_type": "code",
   "execution_count": null,
   "id": "d19ff3b7",
   "metadata": {},
   "outputs": [],
   "source": []
  },
  {
   "cell_type": "code",
   "execution_count": null,
   "id": "a5d57804",
   "metadata": {},
   "outputs": [],
   "source": []
  },
  {
   "cell_type": "code",
   "execution_count": null,
   "id": "795acd2f",
   "metadata": {},
   "outputs": [],
   "source": []
  },
  {
   "cell_type": "code",
   "execution_count": null,
   "id": "6137e69f",
   "metadata": {},
   "outputs": [],
   "source": []
  },
  {
   "cell_type": "code",
   "execution_count": null,
   "id": "52f1a07d",
   "metadata": {},
   "outputs": [],
   "source": []
  },
  {
   "cell_type": "code",
   "execution_count": null,
   "id": "aeeec971",
   "metadata": {},
   "outputs": [],
   "source": []
  },
  {
   "cell_type": "code",
   "execution_count": null,
   "id": "c8cb7a54",
   "metadata": {},
   "outputs": [],
   "source": []
  },
  {
   "cell_type": "code",
   "execution_count": null,
   "id": "052bf2ed",
   "metadata": {},
   "outputs": [],
   "source": []
  },
  {
   "cell_type": "code",
   "execution_count": null,
   "id": "dc4c0260",
   "metadata": {},
   "outputs": [],
   "source": []
  },
  {
   "cell_type": "code",
   "execution_count": null,
   "id": "bc457450",
   "metadata": {},
   "outputs": [],
   "source": []
  },
  {
   "cell_type": "code",
   "execution_count": null,
   "id": "3f96ffc7",
   "metadata": {},
   "outputs": [],
   "source": []
  },
  {
   "cell_type": "code",
   "execution_count": null,
   "id": "ec9f6664",
   "metadata": {},
   "outputs": [],
   "source": []
  },
  {
   "cell_type": "code",
   "execution_count": null,
   "id": "f72ce3f3",
   "metadata": {},
   "outputs": [],
   "source": []
  },
  {
   "cell_type": "code",
   "execution_count": null,
   "id": "efd49ac0",
   "metadata": {},
   "outputs": [],
   "source": []
  },
  {
   "cell_type": "code",
   "execution_count": null,
   "id": "566f238b",
   "metadata": {},
   "outputs": [],
   "source": []
  },
  {
   "cell_type": "code",
   "execution_count": null,
   "id": "7785d42f",
   "metadata": {},
   "outputs": [],
   "source": []
  },
  {
   "cell_type": "code",
   "execution_count": null,
   "id": "c107c328",
   "metadata": {},
   "outputs": [],
   "source": []
  },
  {
   "cell_type": "code",
   "execution_count": null,
   "id": "a0b40e36",
   "metadata": {},
   "outputs": [],
   "source": []
  },
  {
   "cell_type": "code",
   "execution_count": null,
   "id": "4e75c796",
   "metadata": {},
   "outputs": [],
   "source": []
  },
  {
   "cell_type": "code",
   "execution_count": null,
   "id": "a124e32b",
   "metadata": {},
   "outputs": [],
   "source": []
  }
 ],
 "metadata": {
  "kernelspec": {
   "display_name": "base",
   "language": "python",
   "name": "python3"
  },
  "language_info": {
   "codemirror_mode": {
    "name": "ipython",
    "version": 3
   },
   "file_extension": ".py",
   "mimetype": "text/x-python",
   "name": "python",
   "nbconvert_exporter": "python",
   "pygments_lexer": "ipython3",
   "version": "3.12.7"
  }
 },
 "nbformat": 4,
 "nbformat_minor": 5
}
